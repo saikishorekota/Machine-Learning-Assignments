{
 "cells": [
  {
   "cell_type": "code",
   "execution_count": 2,
   "metadata": {},
   "outputs": [],
   "source": [
    "import numpy as np\n",
    "import matplotlib.pyplot as plt"
   ]
  },
  {
   "cell_type": "code",
   "execution_count": 3,
   "metadata": {},
   "outputs": [],
   "source": [
    "np.random.seed(4)\n",
    "m = 60\n",
    "w1, w2 = 0.1, 0.3\n",
    "noise = 0.1\n",
    "\n",
    "angles = np.random.rand(m) * 3 * np.pi / 2 - 0.5\n",
    "X = np.empty((m, 3))\n",
    "X[:, 0] = np.cos(angles) + np.sin(angles)/2 + noise * np.random.randn(m) / 2\n",
    "X[:, 1] = np.sin(angles) * 0.7 + noise * np.random.randn(m) / 2\n",
    "X[:, 2] = X[:, 0] * w1 + X[:, 1] * w2 + noise * np.random.randn(m)"
   ]
  },
  {
   "cell_type": "markdown",
   "metadata": {},
   "source": [
    "## PCA using SVD decomposition"
   ]
  },
  {
   "cell_type": "code",
   "execution_count": 7,
   "metadata": {},
   "outputs": [],
   "source": [
    "X_centered  = X - X.mean(axis=0)\n",
    "U, s, Vt = np.linalg.svd(X_centered)\n",
    "c1 = Vt.T[:, 0]\n",
    "c2 = Vt.T[:, 1]"
   ]
  },
  {
   "cell_type": "code",
   "execution_count": 8,
   "metadata": {},
   "outputs": [],
   "source": [
    "m, n = X.shape\n",
    "\n",
    "S = np.zeros(X_centered.shape)\n",
    "S[:n, :n] = np.diag(s)"
   ]
  },
  {
   "cell_type": "code",
   "execution_count": 9,
   "metadata": {},
   "outputs": [
    {
     "data": {
      "text/plain": [
       "True"
      ]
     },
     "execution_count": 9,
     "metadata": {},
     "output_type": "execute_result"
    }
   ],
   "source": [
    "np.allclose(X_centered, U.dot(S).dot(Vt))"
   ]
  },
  {
   "cell_type": "code",
   "execution_count": 12,
   "metadata": {},
   "outputs": [],
   "source": [
    "W2 = Vt.T[:, :2]\n",
    "X2D = X_centered.dot(W2)"
   ]
  },
  {
   "cell_type": "code",
   "execution_count": 13,
   "metadata": {},
   "outputs": [],
   "source": [
    "X2D_using_svd = X2D"
   ]
  },
  {
   "cell_type": "code",
   "execution_count": 14,
   "metadata": {},
   "outputs": [
    {
     "data": {
      "text/plain": [
       "array([[-1.26203346, -0.42067648],\n",
       "       [ 0.08001485,  0.35272239],\n",
       "       [-1.17545763, -0.36085729],\n",
       "       [-0.89305601,  0.30862856],\n",
       "       [-0.73016287,  0.25404049]])"
      ]
     },
     "execution_count": 14,
     "metadata": {},
     "output_type": "execute_result"
    }
   ],
   "source": [
    "X2D_using_svd[:5]"
   ]
  },
  {
   "cell_type": "markdown",
   "metadata": {},
   "source": [
    "## PCA using Scikit-Learn"
   ]
  },
  {
   "cell_type": "code",
   "execution_count": 5,
   "metadata": {},
   "outputs": [],
   "source": [
    "from sklearn.decomposition import PCA\n",
    "\n",
    "pca = PCA(n_components = 2)\n",
    "X2D = pca.fit_transform(X)"
   ]
  },
  {
   "cell_type": "code",
   "execution_count": 15,
   "metadata": {},
   "outputs": [
    {
     "data": {
      "text/plain": [
       "array([[-1.26203346, -0.42067648],\n",
       "       [ 0.08001485,  0.35272239],\n",
       "       [-1.17545763, -0.36085729],\n",
       "       [-0.89305601,  0.30862856],\n",
       "       [-0.73016287,  0.25404049]])"
      ]
     },
     "execution_count": 15,
     "metadata": {},
     "output_type": "execute_result"
    }
   ],
   "source": [
    "X2D[:5]"
   ]
  },
  {
   "cell_type": "code",
   "execution_count": 17,
   "metadata": {},
   "outputs": [
    {
     "data": {
      "text/plain": [
       "True"
      ]
     },
     "execution_count": 17,
     "metadata": {},
     "output_type": "execute_result"
    }
   ],
   "source": [
    "np.allclose(X2D, X2D_using_svd)"
   ]
  },
  {
   "cell_type": "code",
   "execution_count": 18,
   "metadata": {},
   "outputs": [],
   "source": [
    "X3D_inv = pca.inverse_transform(X2D)"
   ]
  },
  {
   "cell_type": "code",
   "execution_count": 19,
   "metadata": {},
   "outputs": [
    {
     "data": {
      "text/plain": [
       "False"
      ]
     },
     "execution_count": 19,
     "metadata": {},
     "output_type": "execute_result"
    }
   ],
   "source": [
    "np.allclose(X3D_inv, X)"
   ]
  },
  {
   "cell_type": "markdown",
   "metadata": {},
   "source": [
    "## PCA"
   ]
  },
  {
   "cell_type": "code",
   "execution_count": 22,
   "metadata": {},
   "outputs": [
    {
     "data": {
      "text/plain": [
       "array([[-0.93636116, -0.29854881, -0.18465208],\n",
       "       [ 0.34027485, -0.90119108, -0.2684542 ]])"
      ]
     },
     "execution_count": 22,
     "metadata": {},
     "output_type": "execute_result"
    }
   ],
   "source": [
    "pca.components_"
   ]
  },
  {
   "cell_type": "code",
   "execution_count": 23,
   "metadata": {},
   "outputs": [
    {
     "data": {
      "text/plain": [
       "array([[ 0.93636116,  0.29854881,  0.18465208],\n",
       "       [-0.34027485,  0.90119108,  0.2684542 ]])"
      ]
     },
     "execution_count": 23,
     "metadata": {},
     "output_type": "execute_result"
    }
   ],
   "source": [
    "Vt[:2]"
   ]
  },
  {
   "cell_type": "code",
   "execution_count": 24,
   "metadata": {},
   "outputs": [
    {
     "data": {
      "text/plain": [
       "array([0.84248607, 0.14631839])"
      ]
     },
     "execution_count": 24,
     "metadata": {},
     "output_type": "execute_result"
    }
   ],
   "source": [
    "pca.explained_variance_ratio_"
   ]
  },
  {
   "cell_type": "code",
   "execution_count": 25,
   "metadata": {},
   "outputs": [
    {
     "data": {
      "text/plain": [
       "0.011195535570688975"
      ]
     },
     "execution_count": 25,
     "metadata": {},
     "output_type": "execute_result"
    }
   ],
   "source": [
    "1 - pca.explained_variance_ratio_.sum()"
   ]
  },
  {
   "cell_type": "markdown",
   "metadata": {},
   "source": [
    "## MNIST"
   ]
  },
  {
   "cell_type": "code",
   "execution_count": 46,
   "metadata": {},
   "outputs": [],
   "source": [
    "from six.moves import urllib\n",
    "from sklearn.datasets import fetch_mldata\n",
    "\n",
    "mnist = fetch_mldata('MNIST original')"
   ]
  },
  {
   "cell_type": "code",
   "execution_count": 47,
   "metadata": {},
   "outputs": [],
   "source": [
    "from sklearn.model_selection import train_test_split\n",
    "\n",
    "X = mnist[\"data\"]\n",
    "y = mnist[\"target\"]\n",
    "\n",
    "X_train, X_test, y_train, y_test = train_test_split(X, y)"
   ]
  },
  {
   "cell_type": "code",
   "execution_count": 48,
   "metadata": {},
   "outputs": [],
   "source": [
    "pca = PCA()\n",
    "pca.fit(X_train)\n",
    "\n",
    "cumsum = np.cumsum(pca.explained_variance_ratio_)\n",
    "d = np.argmax(cumsum >= 0.95) + 1"
   ]
  },
  {
   "cell_type": "code",
   "execution_count": 49,
   "metadata": {},
   "outputs": [
    {
     "data": {
      "text/plain": [
       "154"
      ]
     },
     "execution_count": 49,
     "metadata": {},
     "output_type": "execute_result"
    }
   ],
   "source": [
    "d"
   ]
  },
  {
   "cell_type": "code",
   "execution_count": 50,
   "metadata": {},
   "outputs": [],
   "source": [
    "pca = PCA(n_components=0.95)\n",
    "X_reduced = pca.fit_transform(X_train)"
   ]
  },
  {
   "cell_type": "code",
   "execution_count": 51,
   "metadata": {},
   "outputs": [
    {
     "data": {
      "text/plain": [
       "154"
      ]
     },
     "execution_count": 51,
     "metadata": {},
     "output_type": "execute_result"
    }
   ],
   "source": [
    "pca.n_components_"
   ]
  },
  {
   "cell_type": "code",
   "execution_count": 52,
   "metadata": {},
   "outputs": [
    {
     "data": {
      "text/plain": [
       "0.9504049567459127"
      ]
     },
     "execution_count": 52,
     "metadata": {},
     "output_type": "execute_result"
    }
   ],
   "source": [
    "np.sum(pca.explained_variance_ratio_)"
   ]
  },
  {
   "cell_type": "code",
   "execution_count": 53,
   "metadata": {},
   "outputs": [],
   "source": [
    "pca = PCA(n_components = 154)\n",
    "X_reduced = pca.fit_transform(X_train)\n",
    "X_recovered = pca.inverse_transform(X_reduced)"
   ]
  },
  {
   "cell_type": "code",
   "execution_count": 54,
   "metadata": {},
   "outputs": [],
   "source": [
    "X_reduced_pca = X_reduced"
   ]
  },
  {
   "cell_type": "markdown",
   "metadata": {},
   "source": [
    "## Incremental PCA"
   ]
  },
  {
   "cell_type": "code",
   "execution_count": 59,
   "metadata": {},
   "outputs": [
    {
     "name": "stdout",
     "output_type": "stream",
     "text": [
      "...................................................................................................."
     ]
    }
   ],
   "source": [
    "from sklearn.decomposition import IncrementalPCA\n",
    "\n",
    "n_batches = 100\n",
    "\n",
    "inc_pca = IncrementalPCA(n_components=154)\n",
    "for X_batch in np.array_split(X_train, n_batches):\n",
    "    print(\".\", end=\"\")\n",
    "    inc_pca.partial_fit(X_batch)\n",
    "\n",
    "X_reduced = inc_pca.transform(X_train)"
   ]
  },
  {
   "cell_type": "code",
   "execution_count": 60,
   "metadata": {},
   "outputs": [],
   "source": [
    "X_recovered_inc_pca = inc_pca.inverse_transform(X_reduced)"
   ]
  },
  {
   "cell_type": "code",
   "execution_count": 61,
   "metadata": {},
   "outputs": [],
   "source": [
    "X_reduced_inc_pca = X_reduced"
   ]
  },
  {
   "cell_type": "code",
   "execution_count": 62,
   "metadata": {},
   "outputs": [
    {
     "data": {
      "text/plain": [
       "True"
      ]
     },
     "execution_count": 62,
     "metadata": {},
     "output_type": "execute_result"
    }
   ],
   "source": [
    "np.allclose(pca.mean_, inc_pca.mean_)"
   ]
  },
  {
   "cell_type": "code",
   "execution_count": 63,
   "metadata": {},
   "outputs": [
    {
     "data": {
      "text/plain": [
       "False"
      ]
     },
     "execution_count": 63,
     "metadata": {},
     "output_type": "execute_result"
    }
   ],
   "source": [
    "np.allclose(X_reduced_pca, X_reduced_inc_pca)"
   ]
  },
  {
   "cell_type": "markdown",
   "metadata": {},
   "source": [
    "## Kernel PCA"
   ]
  },
  {
   "cell_type": "code",
   "execution_count": 68,
   "metadata": {},
   "outputs": [],
   "source": [
    "X, t = make_swiss_roll(n_samples=1000, noise=0.2, random_state=0)\n",
    "y = t > 6.9"
   ]
  },
  {
   "cell_type": "code",
   "execution_count": 69,
   "metadata": {},
   "outputs": [],
   "source": [
    "from sklearn.decomposition import KernelPCA\n",
    "\n",
    "rbf_pca = KernelPCA(n_components = 2, kernel=\"rbf\", gamma=0.04)\n",
    "X_reduced = rbf_pca.fit_transform(X)"
   ]
  },
  {
   "cell_type": "code",
   "execution_count": 71,
   "metadata": {},
   "outputs": [
    {
     "data": {
      "text/plain": [
       "GridSearchCV(cv=3, error_score='raise',\n",
       "       estimator=Pipeline(memory=None,\n",
       "     steps=[('kpca', KernelPCA(alpha=1.0, coef0=1, copy_X=True, degree=3, eigen_solver='auto',\n",
       "     fit_inverse_transform=False, gamma=None, kernel='linear',\n",
       "     kernel_params=None, max_iter=None, n_components=2, n_jobs=1,\n",
       "     random_state=None, remove_zero_eig=False, tol=0)), ('log_reg', LogisticRegre...ty='l2', random_state=None, solver='liblinear', tol=0.0001,\n",
       "          verbose=0, warm_start=False))]),\n",
       "       fit_params=None, iid=True, n_jobs=1,\n",
       "       param_grid=[{'kpca__gamma': array([0.03   , 0.03222, 0.03444, 0.03667, 0.03889, 0.04111, 0.04333,\n",
       "       0.04556, 0.04778, 0.05   ]), 'kpca__kernel': ['rbf', 'sigmoid']}],\n",
       "       pre_dispatch='2*n_jobs', refit=True, return_train_score='warn',\n",
       "       scoring=None, verbose=0)"
      ]
     },
     "execution_count": 71,
     "metadata": {},
     "output_type": "execute_result"
    }
   ],
   "source": [
    "from sklearn.model_selection import GridSearchCV\n",
    "from sklearn.linear_model import LogisticRegression\n",
    "from sklearn.pipeline import Pipeline\n",
    "\n",
    "clf = Pipeline([\n",
    "        (\"kpca\", KernelPCA(n_components=2)),\n",
    "        (\"log_reg\", LogisticRegression())\n",
    "    ])\n",
    "\n",
    "param_grid = [{\n",
    "        \"kpca__gamma\": np.linspace(0.03, 0.05, 10),\n",
    "        \"kpca__kernel\": [\"rbf\", \"sigmoid\"]\n",
    "    }]\n",
    "\n",
    "grid_search = GridSearchCV(clf, param_grid, cv=3)\n",
    "grid_search.fit(X, y)"
   ]
  },
  {
   "cell_type": "code",
   "execution_count": 72,
   "metadata": {},
   "outputs": [
    {
     "name": "stdout",
     "output_type": "stream",
     "text": [
      "{'kpca__gamma': 0.03888888888888889, 'kpca__kernel': 'rbf'}\n"
     ]
    }
   ],
   "source": [
    "print(grid_search.best_params_)"
   ]
  },
  {
   "cell_type": "code",
   "execution_count": 73,
   "metadata": {},
   "outputs": [],
   "source": [
    "rbf_pca = KernelPCA(n_components = 2, kernel=\"rbf\", gamma=0.0433,\n",
    "                    fit_inverse_transform=True)\n",
    "X_reduced = rbf_pca.fit_transform(X)\n",
    "X_preimage = rbf_pca.inverse_transform(X_reduced)"
   ]
  },
  {
   "cell_type": "code",
   "execution_count": 74,
   "metadata": {},
   "outputs": [
    {
     "data": {
      "text/plain": [
       "30.57225883459991"
      ]
     },
     "execution_count": 74,
     "metadata": {},
     "output_type": "execute_result"
    }
   ],
   "source": [
    "from sklearn.metrics import mean_squared_error\n",
    "\n",
    "    mean_squared_error(X, X_preimage)"
   ]
  },
  {
   "cell_type": "code",
   "execution_count": 75,
   "metadata": {},
   "outputs": [],
   "source": [
    "rbf_pca = KernelPCA(n_components = 2, kernel=\"rbf\", gamma=0.0433,\n",
    "                    fit_inverse_transform=True)\n",
    "X_reduced = rbf_pca.fit_transform(X)\n",
    "X_preimage = rbf_pca.inverse_transform(X_reduced)"
   ]
  },
  {
   "cell_type": "code",
   "execution_count": 76,
   "metadata": {},
   "outputs": [
    {
     "data": {
      "text/plain": [
       "30.57225883459994"
      ]
     },
     "execution_count": 76,
     "metadata": {},
     "output_type": "execute_result"
    }
   ],
   "source": [
    "from sklearn.metrics import mean_squared_error\n",
    "\n",
    "mean_squared_error(X, X_preimage)"
   ]
  },
  {
   "cell_type": "markdown",
   "metadata": {},
   "source": [
    "## LLE"
   ]
  },
  {
   "cell_type": "code",
   "execution_count": 77,
   "metadata": {},
   "outputs": [],
   "source": [
    "X, t = make_swiss_roll(n_samples=1000, noise=0.2, random_state=0)"
   ]
  },
  {
   "cell_type": "code",
   "execution_count": 78,
   "metadata": {},
   "outputs": [],
   "source": [
    "from sklearn.manifold import LocallyLinearEmbedding\n",
    "\n",
    "lle = LocallyLinearEmbedding(n_components=2, n_neighbors=10, random_state=0)\n",
    "X_reduced = lle.fit_transform(X)"
   ]
  },
  {
   "cell_type": "code",
   "execution_count": 80,
   "metadata": {},
   "outputs": [
    {
     "data": {
      "application/javascript": [
       "/* Put everything inside the global mpl namespace */\n",
       "window.mpl = {};\n",
       "\n",
       "\n",
       "mpl.get_websocket_type = function() {\n",
       "    if (typeof(WebSocket) !== 'undefined') {\n",
       "        return WebSocket;\n",
       "    } else if (typeof(MozWebSocket) !== 'undefined') {\n",
       "        return MozWebSocket;\n",
       "    } else {\n",
       "        alert('Your browser does not have WebSocket support.' +\n",
       "              'Please try Chrome, Safari or Firefox ≥ 6. ' +\n",
       "              'Firefox 4 and 5 are also supported but you ' +\n",
       "              'have to enable WebSockets in about:config.');\n",
       "    };\n",
       "}\n",
       "\n",
       "mpl.figure = function(figure_id, websocket, ondownload, parent_element) {\n",
       "    this.id = figure_id;\n",
       "\n",
       "    this.ws = websocket;\n",
       "\n",
       "    this.supports_binary = (this.ws.binaryType != undefined);\n",
       "\n",
       "    if (!this.supports_binary) {\n",
       "        var warnings = document.getElementById(\"mpl-warnings\");\n",
       "        if (warnings) {\n",
       "            warnings.style.display = 'block';\n",
       "            warnings.textContent = (\n",
       "                \"This browser does not support binary websocket messages. \" +\n",
       "                    \"Performance may be slow.\");\n",
       "        }\n",
       "    }\n",
       "\n",
       "    this.imageObj = new Image();\n",
       "\n",
       "    this.context = undefined;\n",
       "    this.message = undefined;\n",
       "    this.canvas = undefined;\n",
       "    this.rubberband_canvas = undefined;\n",
       "    this.rubberband_context = undefined;\n",
       "    this.format_dropdown = undefined;\n",
       "\n",
       "    this.image_mode = 'full';\n",
       "\n",
       "    this.root = $('<div/>');\n",
       "    this._root_extra_style(this.root)\n",
       "    this.root.attr('style', 'display: inline-block');\n",
       "\n",
       "    $(parent_element).append(this.root);\n",
       "\n",
       "    this._init_header(this);\n",
       "    this._init_canvas(this);\n",
       "    this._init_toolbar(this);\n",
       "\n",
       "    var fig = this;\n",
       "\n",
       "    this.waiting = false;\n",
       "\n",
       "    this.ws.onopen =  function () {\n",
       "            fig.send_message(\"supports_binary\", {value: fig.supports_binary});\n",
       "            fig.send_message(\"send_image_mode\", {});\n",
       "            if (mpl.ratio != 1) {\n",
       "                fig.send_message(\"set_dpi_ratio\", {'dpi_ratio': mpl.ratio});\n",
       "            }\n",
       "            fig.send_message(\"refresh\", {});\n",
       "        }\n",
       "\n",
       "    this.imageObj.onload = function() {\n",
       "            if (fig.image_mode == 'full') {\n",
       "                // Full images could contain transparency (where diff images\n",
       "                // almost always do), so we need to clear the canvas so that\n",
       "                // there is no ghosting.\n",
       "                fig.context.clearRect(0, 0, fig.canvas.width, fig.canvas.height);\n",
       "            }\n",
       "            fig.context.drawImage(fig.imageObj, 0, 0);\n",
       "        };\n",
       "\n",
       "    this.imageObj.onunload = function() {\n",
       "        fig.ws.close();\n",
       "    }\n",
       "\n",
       "    this.ws.onmessage = this._make_on_message_function(this);\n",
       "\n",
       "    this.ondownload = ondownload;\n",
       "}\n",
       "\n",
       "mpl.figure.prototype._init_header = function() {\n",
       "    var titlebar = $(\n",
       "        '<div class=\"ui-dialog-titlebar ui-widget-header ui-corner-all ' +\n",
       "        'ui-helper-clearfix\"/>');\n",
       "    var titletext = $(\n",
       "        '<div class=\"ui-dialog-title\" style=\"width: 100%; ' +\n",
       "        'text-align: center; padding: 3px;\"/>');\n",
       "    titlebar.append(titletext)\n",
       "    this.root.append(titlebar);\n",
       "    this.header = titletext[0];\n",
       "}\n",
       "\n",
       "\n",
       "\n",
       "mpl.figure.prototype._canvas_extra_style = function(canvas_div) {\n",
       "\n",
       "}\n",
       "\n",
       "\n",
       "mpl.figure.prototype._root_extra_style = function(canvas_div) {\n",
       "\n",
       "}\n",
       "\n",
       "mpl.figure.prototype._init_canvas = function() {\n",
       "    var fig = this;\n",
       "\n",
       "    var canvas_div = $('<div/>');\n",
       "\n",
       "    canvas_div.attr('style', 'position: relative; clear: both; outline: 0');\n",
       "\n",
       "    function canvas_keyboard_event(event) {\n",
       "        return fig.key_event(event, event['data']);\n",
       "    }\n",
       "\n",
       "    canvas_div.keydown('key_press', canvas_keyboard_event);\n",
       "    canvas_div.keyup('key_release', canvas_keyboard_event);\n",
       "    this.canvas_div = canvas_div\n",
       "    this._canvas_extra_style(canvas_div)\n",
       "    this.root.append(canvas_div);\n",
       "\n",
       "    var canvas = $('<canvas/>');\n",
       "    canvas.addClass('mpl-canvas');\n",
       "    canvas.attr('style', \"left: 0; top: 0; z-index: 0; outline: 0\")\n",
       "\n",
       "    this.canvas = canvas[0];\n",
       "    this.context = canvas[0].getContext(\"2d\");\n",
       "\n",
       "    var backingStore = this.context.backingStorePixelRatio ||\n",
       "\tthis.context.webkitBackingStorePixelRatio ||\n",
       "\tthis.context.mozBackingStorePixelRatio ||\n",
       "\tthis.context.msBackingStorePixelRatio ||\n",
       "\tthis.context.oBackingStorePixelRatio ||\n",
       "\tthis.context.backingStorePixelRatio || 1;\n",
       "\n",
       "    mpl.ratio = (window.devicePixelRatio || 1) / backingStore;\n",
       "\n",
       "    var rubberband = $('<canvas/>');\n",
       "    rubberband.attr('style', \"position: absolute; left: 0; top: 0; z-index: 1;\")\n",
       "\n",
       "    var pass_mouse_events = true;\n",
       "\n",
       "    canvas_div.resizable({\n",
       "        start: function(event, ui) {\n",
       "            pass_mouse_events = false;\n",
       "        },\n",
       "        resize: function(event, ui) {\n",
       "            fig.request_resize(ui.size.width, ui.size.height);\n",
       "        },\n",
       "        stop: function(event, ui) {\n",
       "            pass_mouse_events = true;\n",
       "            fig.request_resize(ui.size.width, ui.size.height);\n",
       "        },\n",
       "    });\n",
       "\n",
       "    function mouse_event_fn(event) {\n",
       "        if (pass_mouse_events)\n",
       "            return fig.mouse_event(event, event['data']);\n",
       "    }\n",
       "\n",
       "    rubberband.mousedown('button_press', mouse_event_fn);\n",
       "    rubberband.mouseup('button_release', mouse_event_fn);\n",
       "    // Throttle sequential mouse events to 1 every 20ms.\n",
       "    rubberband.mousemove('motion_notify', mouse_event_fn);\n",
       "\n",
       "    rubberband.mouseenter('figure_enter', mouse_event_fn);\n",
       "    rubberband.mouseleave('figure_leave', mouse_event_fn);\n",
       "\n",
       "    canvas_div.on(\"wheel\", function (event) {\n",
       "        event = event.originalEvent;\n",
       "        event['data'] = 'scroll'\n",
       "        if (event.deltaY < 0) {\n",
       "            event.step = 1;\n",
       "        } else {\n",
       "            event.step = -1;\n",
       "        }\n",
       "        mouse_event_fn(event);\n",
       "    });\n",
       "\n",
       "    canvas_div.append(canvas);\n",
       "    canvas_div.append(rubberband);\n",
       "\n",
       "    this.rubberband = rubberband;\n",
       "    this.rubberband_canvas = rubberband[0];\n",
       "    this.rubberband_context = rubberband[0].getContext(\"2d\");\n",
       "    this.rubberband_context.strokeStyle = \"#000000\";\n",
       "\n",
       "    this._resize_canvas = function(width, height) {\n",
       "        // Keep the size of the canvas, canvas container, and rubber band\n",
       "        // canvas in synch.\n",
       "        canvas_div.css('width', width)\n",
       "        canvas_div.css('height', height)\n",
       "\n",
       "        canvas.attr('width', width * mpl.ratio);\n",
       "        canvas.attr('height', height * mpl.ratio);\n",
       "        canvas.attr('style', 'width: ' + width + 'px; height: ' + height + 'px;');\n",
       "\n",
       "        rubberband.attr('width', width);\n",
       "        rubberband.attr('height', height);\n",
       "    }\n",
       "\n",
       "    // Set the figure to an initial 600x600px, this will subsequently be updated\n",
       "    // upon first draw.\n",
       "    this._resize_canvas(600, 600);\n",
       "\n",
       "    // Disable right mouse context menu.\n",
       "    $(this.rubberband_canvas).bind(\"contextmenu\",function(e){\n",
       "        return false;\n",
       "    });\n",
       "\n",
       "    function set_focus () {\n",
       "        canvas.focus();\n",
       "        canvas_div.focus();\n",
       "    }\n",
       "\n",
       "    window.setTimeout(set_focus, 100);\n",
       "}\n",
       "\n",
       "mpl.figure.prototype._init_toolbar = function() {\n",
       "    var fig = this;\n",
       "\n",
       "    var nav_element = $('<div/>')\n",
       "    nav_element.attr('style', 'width: 100%');\n",
       "    this.root.append(nav_element);\n",
       "\n",
       "    // Define a callback function for later on.\n",
       "    function toolbar_event(event) {\n",
       "        return fig.toolbar_button_onclick(event['data']);\n",
       "    }\n",
       "    function toolbar_mouse_event(event) {\n",
       "        return fig.toolbar_button_onmouseover(event['data']);\n",
       "    }\n",
       "\n",
       "    for(var toolbar_ind in mpl.toolbar_items) {\n",
       "        var name = mpl.toolbar_items[toolbar_ind][0];\n",
       "        var tooltip = mpl.toolbar_items[toolbar_ind][1];\n",
       "        var image = mpl.toolbar_items[toolbar_ind][2];\n",
       "        var method_name = mpl.toolbar_items[toolbar_ind][3];\n",
       "\n",
       "        if (!name) {\n",
       "            // put a spacer in here.\n",
       "            continue;\n",
       "        }\n",
       "        var button = $('<button/>');\n",
       "        button.addClass('ui-button ui-widget ui-state-default ui-corner-all ' +\n",
       "                        'ui-button-icon-only');\n",
       "        button.attr('role', 'button');\n",
       "        button.attr('aria-disabled', 'false');\n",
       "        button.click(method_name, toolbar_event);\n",
       "        button.mouseover(tooltip, toolbar_mouse_event);\n",
       "\n",
       "        var icon_img = $('<span/>');\n",
       "        icon_img.addClass('ui-button-icon-primary ui-icon');\n",
       "        icon_img.addClass(image);\n",
       "        icon_img.addClass('ui-corner-all');\n",
       "\n",
       "        var tooltip_span = $('<span/>');\n",
       "        tooltip_span.addClass('ui-button-text');\n",
       "        tooltip_span.html(tooltip);\n",
       "\n",
       "        button.append(icon_img);\n",
       "        button.append(tooltip_span);\n",
       "\n",
       "        nav_element.append(button);\n",
       "    }\n",
       "\n",
       "    var fmt_picker_span = $('<span/>');\n",
       "\n",
       "    var fmt_picker = $('<select/>');\n",
       "    fmt_picker.addClass('mpl-toolbar-option ui-widget ui-widget-content');\n",
       "    fmt_picker_span.append(fmt_picker);\n",
       "    nav_element.append(fmt_picker_span);\n",
       "    this.format_dropdown = fmt_picker[0];\n",
       "\n",
       "    for (var ind in mpl.extensions) {\n",
       "        var fmt = mpl.extensions[ind];\n",
       "        var option = $(\n",
       "            '<option/>', {selected: fmt === mpl.default_extension}).html(fmt);\n",
       "        fmt_picker.append(option)\n",
       "    }\n",
       "\n",
       "    // Add hover states to the ui-buttons\n",
       "    $( \".ui-button\" ).hover(\n",
       "        function() { $(this).addClass(\"ui-state-hover\");},\n",
       "        function() { $(this).removeClass(\"ui-state-hover\");}\n",
       "    );\n",
       "\n",
       "    var status_bar = $('<span class=\"mpl-message\"/>');\n",
       "    nav_element.append(status_bar);\n",
       "    this.message = status_bar[0];\n",
       "}\n",
       "\n",
       "mpl.figure.prototype.request_resize = function(x_pixels, y_pixels) {\n",
       "    // Request matplotlib to resize the figure. Matplotlib will then trigger a resize in the client,\n",
       "    // which will in turn request a refresh of the image.\n",
       "    this.send_message('resize', {'width': x_pixels, 'height': y_pixels});\n",
       "}\n",
       "\n",
       "mpl.figure.prototype.send_message = function(type, properties) {\n",
       "    properties['type'] = type;\n",
       "    properties['figure_id'] = this.id;\n",
       "    this.ws.send(JSON.stringify(properties));\n",
       "}\n",
       "\n",
       "mpl.figure.prototype.send_draw_message = function() {\n",
       "    if (!this.waiting) {\n",
       "        this.waiting = true;\n",
       "        this.ws.send(JSON.stringify({type: \"draw\", figure_id: this.id}));\n",
       "    }\n",
       "}\n",
       "\n",
       "\n",
       "mpl.figure.prototype.handle_save = function(fig, msg) {\n",
       "    var format_dropdown = fig.format_dropdown;\n",
       "    var format = format_dropdown.options[format_dropdown.selectedIndex].value;\n",
       "    fig.ondownload(fig, format);\n",
       "}\n",
       "\n",
       "\n",
       "mpl.figure.prototype.handle_resize = function(fig, msg) {\n",
       "    var size = msg['size'];\n",
       "    if (size[0] != fig.canvas.width || size[1] != fig.canvas.height) {\n",
       "        fig._resize_canvas(size[0], size[1]);\n",
       "        fig.send_message(\"refresh\", {});\n",
       "    };\n",
       "}\n",
       "\n",
       "mpl.figure.prototype.handle_rubberband = function(fig, msg) {\n",
       "    var x0 = msg['x0'] / mpl.ratio;\n",
       "    var y0 = (fig.canvas.height - msg['y0']) / mpl.ratio;\n",
       "    var x1 = msg['x1'] / mpl.ratio;\n",
       "    var y1 = (fig.canvas.height - msg['y1']) / mpl.ratio;\n",
       "    x0 = Math.floor(x0) + 0.5;\n",
       "    y0 = Math.floor(y0) + 0.5;\n",
       "    x1 = Math.floor(x1) + 0.5;\n",
       "    y1 = Math.floor(y1) + 0.5;\n",
       "    var min_x = Math.min(x0, x1);\n",
       "    var min_y = Math.min(y0, y1);\n",
       "    var width = Math.abs(x1 - x0);\n",
       "    var height = Math.abs(y1 - y0);\n",
       "\n",
       "    fig.rubberband_context.clearRect(\n",
       "        0, 0, fig.canvas.width, fig.canvas.height);\n",
       "\n",
       "    fig.rubberband_context.strokeRect(min_x, min_y, width, height);\n",
       "}\n",
       "\n",
       "mpl.figure.prototype.handle_figure_label = function(fig, msg) {\n",
       "    // Updates the figure title.\n",
       "    fig.header.textContent = msg['label'];\n",
       "}\n",
       "\n",
       "mpl.figure.prototype.handle_cursor = function(fig, msg) {\n",
       "    var cursor = msg['cursor'];\n",
       "    switch(cursor)\n",
       "    {\n",
       "    case 0:\n",
       "        cursor = 'pointer';\n",
       "        break;\n",
       "    case 1:\n",
       "        cursor = 'default';\n",
       "        break;\n",
       "    case 2:\n",
       "        cursor = 'crosshair';\n",
       "        break;\n",
       "    case 3:\n",
       "        cursor = 'move';\n",
       "        break;\n",
       "    }\n",
       "    fig.rubberband_canvas.style.cursor = cursor;\n",
       "}\n",
       "\n",
       "mpl.figure.prototype.handle_message = function(fig, msg) {\n",
       "    fig.message.textContent = msg['message'];\n",
       "}\n",
       "\n",
       "mpl.figure.prototype.handle_draw = function(fig, msg) {\n",
       "    // Request the server to send over a new figure.\n",
       "    fig.send_draw_message();\n",
       "}\n",
       "\n",
       "mpl.figure.prototype.handle_image_mode = function(fig, msg) {\n",
       "    fig.image_mode = msg['mode'];\n",
       "}\n",
       "\n",
       "mpl.figure.prototype.updated_canvas_event = function() {\n",
       "    // Called whenever the canvas gets updated.\n",
       "    this.send_message(\"ack\", {});\n",
       "}\n",
       "\n",
       "// A function to construct a web socket function for onmessage handling.\n",
       "// Called in the figure constructor.\n",
       "mpl.figure.prototype._make_on_message_function = function(fig) {\n",
       "    return function socket_on_message(evt) {\n",
       "        if (evt.data instanceof Blob) {\n",
       "            /* FIXME: We get \"Resource interpreted as Image but\n",
       "             * transferred with MIME type text/plain:\" errors on\n",
       "             * Chrome.  But how to set the MIME type?  It doesn't seem\n",
       "             * to be part of the websocket stream */\n",
       "            evt.data.type = \"image/png\";\n",
       "\n",
       "            /* Free the memory for the previous frames */\n",
       "            if (fig.imageObj.src) {\n",
       "                (window.URL || window.webkitURL).revokeObjectURL(\n",
       "                    fig.imageObj.src);\n",
       "            }\n",
       "\n",
       "            fig.imageObj.src = (window.URL || window.webkitURL).createObjectURL(\n",
       "                evt.data);\n",
       "            fig.updated_canvas_event();\n",
       "            fig.waiting = false;\n",
       "            return;\n",
       "        }\n",
       "        else if (typeof evt.data === 'string' && evt.data.slice(0, 21) == \"data:image/png;base64\") {\n",
       "            fig.imageObj.src = evt.data;\n",
       "            fig.updated_canvas_event();\n",
       "            fig.waiting = false;\n",
       "            return;\n",
       "        }\n",
       "\n",
       "        var msg = JSON.parse(evt.data);\n",
       "        var msg_type = msg['type'];\n",
       "\n",
       "        // Call the  \"handle_{type}\" callback, which takes\n",
       "        // the figure and JSON message as its only arguments.\n",
       "        try {\n",
       "            var callback = fig[\"handle_\" + msg_type];\n",
       "        } catch (e) {\n",
       "            console.log(\"No handler for the '\" + msg_type + \"' message type: \", msg);\n",
       "            return;\n",
       "        }\n",
       "\n",
       "        if (callback) {\n",
       "            try {\n",
       "                // console.log(\"Handling '\" + msg_type + \"' message: \", msg);\n",
       "                callback(fig, msg);\n",
       "            } catch (e) {\n",
       "                console.log(\"Exception inside the 'handler_\" + msg_type + \"' callback:\", e, e.stack, msg);\n",
       "            }\n",
       "        }\n",
       "    };\n",
       "}\n",
       "\n",
       "// from http://stackoverflow.com/questions/1114465/getting-mouse-location-in-canvas\n",
       "mpl.findpos = function(e) {\n",
       "    //this section is from http://www.quirksmode.org/js/events_properties.html\n",
       "    var targ;\n",
       "    if (!e)\n",
       "        e = window.event;\n",
       "    if (e.target)\n",
       "        targ = e.target;\n",
       "    else if (e.srcElement)\n",
       "        targ = e.srcElement;\n",
       "    if (targ.nodeType == 3) // defeat Safari bug\n",
       "        targ = targ.parentNode;\n",
       "\n",
       "    // jQuery normalizes the pageX and pageY\n",
       "    // pageX,Y are the mouse positions relative to the document\n",
       "    // offset() returns the position of the element relative to the document\n",
       "    var x = e.pageX - $(targ).offset().left;\n",
       "    var y = e.pageY - $(targ).offset().top;\n",
       "\n",
       "    return {\"x\": x, \"y\": y};\n",
       "};\n",
       "\n",
       "/*\n",
       " * return a copy of an object with only non-object keys\n",
       " * we need this to avoid circular references\n",
       " * http://stackoverflow.com/a/24161582/3208463\n",
       " */\n",
       "function simpleKeys (original) {\n",
       "  return Object.keys(original).reduce(function (obj, key) {\n",
       "    if (typeof original[key] !== 'object')\n",
       "        obj[key] = original[key]\n",
       "    return obj;\n",
       "  }, {});\n",
       "}\n",
       "\n",
       "mpl.figure.prototype.mouse_event = function(event, name) {\n",
       "    var canvas_pos = mpl.findpos(event)\n",
       "\n",
       "    if (name === 'button_press')\n",
       "    {\n",
       "        this.canvas.focus();\n",
       "        this.canvas_div.focus();\n",
       "    }\n",
       "\n",
       "    var x = canvas_pos.x * mpl.ratio;\n",
       "    var y = canvas_pos.y * mpl.ratio;\n",
       "\n",
       "    this.send_message(name, {x: x, y: y, button: event.button,\n",
       "                             step: event.step,\n",
       "                             guiEvent: simpleKeys(event)});\n",
       "\n",
       "    /* This prevents the web browser from automatically changing to\n",
       "     * the text insertion cursor when the button is pressed.  We want\n",
       "     * to control all of the cursor setting manually through the\n",
       "     * 'cursor' event from matplotlib */\n",
       "    event.preventDefault();\n",
       "    return false;\n",
       "}\n",
       "\n",
       "mpl.figure.prototype._key_event_extra = function(event, name) {\n",
       "    // Handle any extra behaviour associated with a key event\n",
       "}\n",
       "\n",
       "mpl.figure.prototype.key_event = function(event, name) {\n",
       "\n",
       "    // Prevent repeat events\n",
       "    if (name == 'key_press')\n",
       "    {\n",
       "        if (event.which === this._key)\n",
       "            return;\n",
       "        else\n",
       "            this._key = event.which;\n",
       "    }\n",
       "    if (name == 'key_release')\n",
       "        this._key = null;\n",
       "\n",
       "    var value = '';\n",
       "    if (event.ctrlKey && event.which != 17)\n",
       "        value += \"ctrl+\";\n",
       "    if (event.altKey && event.which != 18)\n",
       "        value += \"alt+\";\n",
       "    if (event.shiftKey && event.which != 16)\n",
       "        value += \"shift+\";\n",
       "\n",
       "    value += 'k';\n",
       "    value += event.which.toString();\n",
       "\n",
       "    this._key_event_extra(event, name);\n",
       "\n",
       "    this.send_message(name, {key: value,\n",
       "                             guiEvent: simpleKeys(event)});\n",
       "    return false;\n",
       "}\n",
       "\n",
       "mpl.figure.prototype.toolbar_button_onclick = function(name) {\n",
       "    if (name == 'download') {\n",
       "        this.handle_save(this, null);\n",
       "    } else {\n",
       "        this.send_message(\"toolbar_button\", {name: name});\n",
       "    }\n",
       "};\n",
       "\n",
       "mpl.figure.prototype.toolbar_button_onmouseover = function(tooltip) {\n",
       "    this.message.textContent = tooltip;\n",
       "};\n",
       "mpl.toolbar_items = [[\"Home\", \"Reset original view\", \"fa fa-home icon-home\", \"home\"], [\"Back\", \"Back to  previous view\", \"fa fa-arrow-left icon-arrow-left\", \"back\"], [\"Forward\", \"Forward to next view\", \"fa fa-arrow-right icon-arrow-right\", \"forward\"], [\"\", \"\", \"\", \"\"], [\"Pan\", \"Pan axes with left mouse, zoom with right\", \"fa fa-arrows icon-move\", \"pan\"], [\"Zoom\", \"Zoom to rectangle\", \"fa fa-square-o icon-check-empty\", \"zoom\"], [\"\", \"\", \"\", \"\"], [\"Download\", \"Download plot\", \"fa fa-floppy-o icon-save\", \"download\"]];\n",
       "\n",
       "mpl.extensions = [\"eps\", \"jpeg\", \"pdf\", \"png\", \"ps\", \"raw\", \"svg\", \"tif\"];\n",
       "\n",
       "mpl.default_extension = \"png\";var comm_websocket_adapter = function(comm) {\n",
       "    // Create a \"websocket\"-like object which calls the given IPython comm\n",
       "    // object with the appropriate methods. Currently this is a non binary\n",
       "    // socket, so there is still some room for performance tuning.\n",
       "    var ws = {};\n",
       "\n",
       "    ws.close = function() {\n",
       "        comm.close()\n",
       "    };\n",
       "    ws.send = function(m) {\n",
       "        //console.log('sending', m);\n",
       "        comm.send(m);\n",
       "    };\n",
       "    // Register the callback with on_msg.\n",
       "    comm.on_msg(function(msg) {\n",
       "        //console.log('receiving', msg['content']['data'], msg);\n",
       "        // Pass the mpl event to the overridden (by mpl) onmessage function.\n",
       "        ws.onmessage(msg['content']['data'])\n",
       "    });\n",
       "    return ws;\n",
       "}\n",
       "\n",
       "mpl.mpl_figure_comm = function(comm, msg) {\n",
       "    // This is the function which gets called when the mpl process\n",
       "    // starts-up an IPython Comm through the \"matplotlib\" channel.\n",
       "\n",
       "    var id = msg.content.data.id;\n",
       "    // Get hold of the div created by the display call when the Comm\n",
       "    // socket was opened in Python.\n",
       "    var element = $(\"#\" + id);\n",
       "    var ws_proxy = comm_websocket_adapter(comm)\n",
       "\n",
       "    function ondownload(figure, format) {\n",
       "        window.open(figure.imageObj.src);\n",
       "    }\n",
       "\n",
       "    var fig = new mpl.figure(id, ws_proxy,\n",
       "                           ondownload,\n",
       "                           element.get(0));\n",
       "\n",
       "    // Call onopen now - mpl needs it, as it is assuming we've passed it a real\n",
       "    // web socket which is closed, not our websocket->open comm proxy.\n",
       "    ws_proxy.onopen();\n",
       "\n",
       "    fig.parent_element = element.get(0);\n",
       "    fig.cell_info = mpl.find_output_cell(\"<div id='\" + id + \"'></div>\");\n",
       "    if (!fig.cell_info) {\n",
       "        console.error(\"Failed to find cell for figure\", id, fig);\n",
       "        return;\n",
       "    }\n",
       "\n",
       "    var output_index = fig.cell_info[2]\n",
       "    var cell = fig.cell_info[0];\n",
       "\n",
       "};\n",
       "\n",
       "mpl.figure.prototype.handle_close = function(fig, msg) {\n",
       "    var width = fig.canvas.width/mpl.ratio\n",
       "    fig.root.unbind('remove')\n",
       "\n",
       "    // Update the output cell to use the data from the current canvas.\n",
       "    fig.push_to_output();\n",
       "    var dataURL = fig.canvas.toDataURL();\n",
       "    // Re-enable the keyboard manager in IPython - without this line, in FF,\n",
       "    // the notebook keyboard shortcuts fail.\n",
       "    IPython.keyboard_manager.enable()\n",
       "    $(fig.parent_element).html('<img src=\"' + dataURL + '\" width=\"' + width + '\">');\n",
       "    fig.close_ws(fig, msg);\n",
       "}\n",
       "\n",
       "mpl.figure.prototype.close_ws = function(fig, msg){\n",
       "    fig.send_message('closing', msg);\n",
       "    // fig.ws.close()\n",
       "}\n",
       "\n",
       "mpl.figure.prototype.push_to_output = function(remove_interactive) {\n",
       "    // Turn the data on the canvas into data in the output cell.\n",
       "    var width = this.canvas.width/mpl.ratio\n",
       "    var dataURL = this.canvas.toDataURL();\n",
       "    this.cell_info[1]['text/html'] = '<img src=\"' + dataURL + '\" width=\"' + width + '\">';\n",
       "}\n",
       "\n",
       "mpl.figure.prototype.updated_canvas_event = function() {\n",
       "    // Tell IPython that the notebook contents must change.\n",
       "    IPython.notebook.set_dirty(true);\n",
       "    this.send_message(\"ack\", {});\n",
       "    var fig = this;\n",
       "    // Wait a second, then push the new image to the DOM so\n",
       "    // that it is saved nicely (might be nice to debounce this).\n",
       "    setTimeout(function () { fig.push_to_output() }, 1000);\n",
       "}\n",
       "\n",
       "mpl.figure.prototype._init_toolbar = function() {\n",
       "    var fig = this;\n",
       "\n",
       "    var nav_element = $('<div/>')\n",
       "    nav_element.attr('style', 'width: 100%');\n",
       "    this.root.append(nav_element);\n",
       "\n",
       "    // Define a callback function for later on.\n",
       "    function toolbar_event(event) {\n",
       "        return fig.toolbar_button_onclick(event['data']);\n",
       "    }\n",
       "    function toolbar_mouse_event(event) {\n",
       "        return fig.toolbar_button_onmouseover(event['data']);\n",
       "    }\n",
       "\n",
       "    for(var toolbar_ind in mpl.toolbar_items){\n",
       "        var name = mpl.toolbar_items[toolbar_ind][0];\n",
       "        var tooltip = mpl.toolbar_items[toolbar_ind][1];\n",
       "        var image = mpl.toolbar_items[toolbar_ind][2];\n",
       "        var method_name = mpl.toolbar_items[toolbar_ind][3];\n",
       "\n",
       "        if (!name) { continue; };\n",
       "\n",
       "        var button = $('<button class=\"btn btn-default\" href=\"#\" title=\"' + name + '\"><i class=\"fa ' + image + ' fa-lg\"></i></button>');\n",
       "        button.click(method_name, toolbar_event);\n",
       "        button.mouseover(tooltip, toolbar_mouse_event);\n",
       "        nav_element.append(button);\n",
       "    }\n",
       "\n",
       "    // Add the status bar.\n",
       "    var status_bar = $('<span class=\"mpl-message\" style=\"text-align:right; float: right;\"/>');\n",
       "    nav_element.append(status_bar);\n",
       "    this.message = status_bar[0];\n",
       "\n",
       "    // Add the close button to the window.\n",
       "    var buttongrp = $('<div class=\"btn-group inline pull-right\"></div>');\n",
       "    var button = $('<button class=\"btn btn-mini btn-primary\" href=\"#\" title=\"Stop Interaction\"><i class=\"fa fa-power-off icon-remove icon-large\"></i></button>');\n",
       "    button.click(function (evt) { fig.handle_close(fig, {}); } );\n",
       "    button.mouseover('Stop Interaction', toolbar_mouse_event);\n",
       "    buttongrp.append(button);\n",
       "    var titlebar = this.root.find($('.ui-dialog-titlebar'));\n",
       "    titlebar.prepend(buttongrp);\n",
       "}\n",
       "\n",
       "mpl.figure.prototype._root_extra_style = function(el){\n",
       "    var fig = this\n",
       "    el.on(\"remove\", function(){\n",
       "\tfig.close_ws(fig, {});\n",
       "    });\n",
       "}\n",
       "\n",
       "mpl.figure.prototype._canvas_extra_style = function(el){\n",
       "    // this is important to make the div 'focusable\n",
       "    el.attr('tabindex', 0)\n",
       "    // reach out to IPython and tell the keyboard manager to turn it's self\n",
       "    // off when our div gets focus\n",
       "\n",
       "    // location in version 3\n",
       "    if (IPython.notebook.keyboard_manager) {\n",
       "        IPython.notebook.keyboard_manager.register_events(el);\n",
       "    }\n",
       "    else {\n",
       "        // location in version 2\n",
       "        IPython.keyboard_manager.register_events(el);\n",
       "    }\n",
       "\n",
       "}\n",
       "\n",
       "mpl.figure.prototype._key_event_extra = function(event, name) {\n",
       "    var manager = IPython.notebook.keyboard_manager;\n",
       "    if (!manager)\n",
       "        manager = IPython.keyboard_manager;\n",
       "\n",
       "    // Check for shift+enter\n",
       "    if (event.shiftKey && event.which == 13) {\n",
       "        this.canvas_div.blur();\n",
       "        event.shiftKey = false;\n",
       "        // Send a \"J\" for go to next cell\n",
       "        event.which = 74;\n",
       "        event.keyCode = 74;\n",
       "        manager.command_mode();\n",
       "        manager.handle_keydown(event);\n",
       "    }\n",
       "}\n",
       "\n",
       "mpl.figure.prototype.handle_save = function(fig, msg) {\n",
       "    fig.ondownload(fig, null);\n",
       "}\n",
       "\n",
       "\n",
       "mpl.find_output_cell = function(html_output) {\n",
       "    // Return the cell and output element which can be found *uniquely* in the notebook.\n",
       "    // Note - this is a bit hacky, but it is done because the \"notebook_saving.Notebook\"\n",
       "    // IPython event is triggered only after the cells have been serialised, which for\n",
       "    // our purposes (turning an active figure into a static one), is too late.\n",
       "    var cells = IPython.notebook.get_cells();\n",
       "    var ncells = cells.length;\n",
       "    for (var i=0; i<ncells; i++) {\n",
       "        var cell = cells[i];\n",
       "        if (cell.cell_type === 'code'){\n",
       "            for (var j=0; j<cell.output_area.outputs.length; j++) {\n",
       "                var data = cell.output_area.outputs[j];\n",
       "                if (data.data) {\n",
       "                    // IPython >= 3 moved mimebundle to data attribute of output\n",
       "                    data = data.data;\n",
       "                }\n",
       "                if (data['text/html'] == html_output) {\n",
       "                    return [cell, data, j];\n",
       "                }\n",
       "            }\n",
       "        }\n",
       "    }\n",
       "}\n",
       "\n",
       "// Register the function which deals with the matplotlib target/channel.\n",
       "// The kernel may be null if the page has been refreshed.\n",
       "if (IPython.notebook.kernel != null) {\n",
       "    IPython.notebook.kernel.comm_manager.register_target('matplotlib', mpl.mpl_figure_comm);\n",
       "}\n"
      ],
      "text/plain": [
       "<IPython.core.display.Javascript object>"
      ]
     },
     "metadata": {},
     "output_type": "display_data"
    },
    {
     "data": {
      "text/html": [
       "<img src=\"data:image/png;base64,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\" width=\"606.3157970819448\">"
      ],
      "text/plain": [
       "<IPython.core.display.HTML object>"
      ]
     },
     "metadata": {},
     "output_type": "display_data"
    }
   ],
   "source": [
    "%matplotlib notebook \n",
    "\n",
    "plt.title(\"Unrolled swiss roll using LLE\", fontsize=14)\n",
    "plt.scatter(X_reduced[:, 0], X_reduced[:, 1], c=t, cmap=plt.cm.hot)\n",
    "plt.xlabel(\"$z_1$\", fontsize=18)\n",
    "plt.ylabel(\"$z_2$\", fontsize=18)\n",
    "plt.axis([-0.065, 0.055, -0.1, 0.12])\n",
    "plt.grid(True)"
   ]
  },
  {
   "cell_type": "code",
   "execution_count": null,
   "metadata": {},
   "outputs": [],
   "source": []
  }
 ],
 "metadata": {
  "kernelspec": {
   "display_name": "Python 3",
   "language": "python",
   "name": "python3"
  },
  "language_info": {
   "codemirror_mode": {
    "name": "ipython",
    "version": 3
   },
   "file_extension": ".py",
   "mimetype": "text/x-python",
   "name": "python",
   "nbconvert_exporter": "python",
   "pygments_lexer": "ipython3",
   "version": "3.6.5"
  }
 },
 "nbformat": 4,
 "nbformat_minor": 2
}
